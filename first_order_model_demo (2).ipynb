{
  "nbformat": 4,
  "nbformat_minor": 0,
  "metadata": {
    "colab": {
      "name": "first-order-model-demo",
      "provenance": []
    },
    "kernelspec": {
      "name": "python3",
      "display_name": "Python 3"
    },
    "accelerator": "GPU"
  },
  "cells": [
    {
      "cell_type": "code",
      "source": [
        "nume1 =0\n",
        "nume2 =0\n",
        "resultado =0\n",
        "op =''\n",
        "nume1 = float (input(\"digite o primeiro numero:\"))\n",
        "op = input(\"digite a operaçao\")\n",
        "nume2 = float (input(\"digite o segundo numero\"))\n",
        "if op == '+':\n",
        "    resultado = nume1 + nume2\n",
        "    print(resultado)\n",
        "elif op == '-':\n",
        "    resultado = nume1 - nume2\n",
        "    print(resultado)\n",
        "elif op == '*':\n",
        "    resultado = nume1 * nume2\n",
        "    print(resultado)\n",
        "elif op == '/':\n",
        "    resultado = nume1 / nume2\n",
        "    print (resultado)\n",
        "else :\n",
        "    print(\"operação invalida\")\n",
        "\n",
        "\n",
        "\n"
      ],
      "metadata": {
        "id": "_Er36WAp8TFP",
        "outputId": "7301fe08-07a1-40ee-b4f7-2498f248d5df",
        "colab": {
          "base_uri": "https://localhost:8080/"
        }
      },
      "execution_count": 14,
      "outputs": [
        {
          "output_type": "stream",
          "name": "stdout",
          "text": [
            "digite o primeiro numero:20\n",
            "digite a operaçao/\n",
            "digite o segundo numero20\n",
            "1.0\n"
          ]
        }
      ]
    }
  ]
}